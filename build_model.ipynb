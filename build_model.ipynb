{
 "cells": [
  {
   "cell_type": "code",
   "execution_count": 181,
   "metadata": {},
   "outputs": [],
   "source": [
    "import pandas as pd\n",
    "import numpy as np\n",
    "from sklearn.model_selection import train_test_split\n",
    "from sklearn.preprocessing import LabelEncoder\n",
    "from transformers import DistilBertTokenizer, DistilBertModel\n",
    "\n",
    "import torch\n",
    "from torch.utils.data import Dataset, DataLoader\n",
    "import torch.nn as nn\n",
    "from torch import optim\n",
    "from torch.optim.lr_scheduler import StepLR"
   ]
  },
  {
   "cell_type": "markdown",
   "metadata": {},
   "source": [
    "#### Develop simple model with description only"
   ]
  },
  {
   "cell_type": "code",
   "execution_count": 182,
   "metadata": {},
   "outputs": [],
   "source": [
    "DATA_PATH = \"./data/netflix_movies_single_genre.csv\""
   ]
  },
  {
   "cell_type": "code",
   "execution_count": 183,
   "metadata": {},
   "outputs": [],
   "source": [
    "def read_data(data_path: str, features: list):\n",
    "    \"\"\"Read the data, keep only the features needed and drop missing\"\"\"\n",
    "\n",
    "    # Read the data\n",
    "    df = pd.read_csv(data_path)\n",
    "\n",
    "    # Get only the description and genre\n",
    "    df = df.loc[:, features]\n",
    "\n",
    "    # Remove missing values\n",
    "    df = df.dropna()\n",
    "\n",
    "    return df"
   ]
  },
  {
   "cell_type": "code",
   "execution_count": 184,
   "metadata": {},
   "outputs": [],
   "source": [
    "df = read_data(DATA_PATH, features = [\"description\", \"genre\"])"
   ]
  },
  {
   "cell_type": "code",
   "execution_count": 185,
   "metadata": {},
   "outputs": [],
   "source": [
    "# Label encode the genre\n",
    "\n",
    "def label_encode_column(df: pd.DataFrame, column_name: str):\n",
    "  \"\"\"\n",
    "  Function to label encode a column\n",
    "\n",
    "  Args:\n",
    "      df: The pandas DataFrame containing the column to encode.\n",
    "      column_name: The name of the column to encode.\n",
    "\n",
    "  Returns:\n",
    "      A new pandas DataFrame with the encoded column.\n",
    "  \"\"\"\n",
    "\n",
    "  # Create a label encoder\n",
    "  le = LabelEncoder()\n",
    "  le = le.fit(df[column_name])\n",
    "\n",
    "  # Encode the column\n",
    "  df[column_name] = le.transform(df[column_name])\n",
    "\n",
    "  return df, le"
   ]
  },
  {
   "cell_type": "code",
   "execution_count": 186,
   "metadata": {},
   "outputs": [],
   "source": [
    "df_enc, le = label_encode_column(df=df, column_name = \"genre\")"
   ]
  },
  {
   "cell_type": "code",
   "execution_count": 187,
   "metadata": {},
   "outputs": [],
   "source": [
    "def split_data(df: pd.DataFrame, target: str, test_size: float =0.2, random_state=None):\n",
    "  \"\"\"\n",
    "  Splits the DataFrame into train and test sets\n",
    "\n",
    "  Args:\n",
    "      df: DataFrame containing the features and target\n",
    "      target: String with the name of the target column\n",
    "      test_size: Float between 0.0 and 1.0 representing the proportion of data \n",
    "                 allocated to the test set (default is 0.2).\n",
    "      random_state: Integer seed for random number generation (for reproducibility).\n",
    "\n",
    "  Returns:\n",
    "      A tuple of four Pandas DataFrames containing the X and y for the train and test sets\n",
    "\n",
    "  \"\"\"\n",
    "\n",
    "  X = df.drop(target, axis = 1)\n",
    "  y = df[target]\n",
    "\n",
    "  # Split the data into train and test sets\n",
    "  X_train, X_test, y_train, y_test = train_test_split(X, y, test_size=test_size, random_state=random_state)\n",
    "  X_train = X_train.reset_index(drop=True)\n",
    "  X_test = X_test.reset_index(drop=True)\n",
    "  y_train = y_train.reset_index(drop=True)\n",
    "  y_test = y_test.reset_index(drop=True)\n",
    "\n",
    "  return X_train, X_test, y_train, y_test\n"
   ]
  },
  {
   "cell_type": "code",
   "execution_count": 188,
   "metadata": {},
   "outputs": [],
   "source": [
    "X_train, X_test, y_train, y_test = split_data(df, \"genre\", test_size=0.2, random_state=42)"
   ]
  },
  {
   "cell_type": "code",
   "execution_count": 189,
   "metadata": {},
   "outputs": [],
   "source": [
    "tokenizer = DistilBertTokenizer.from_pretrained('distilbert-base-uncased')\n",
    "bert_model = DistilBertModel.from_pretrained('distilbert-base-uncased')"
   ]
  },
  {
   "cell_type": "code",
   "execution_count": 190,
   "metadata": {},
   "outputs": [],
   "source": [
    "class TokenDataLoader(Dataset):\n",
    "    def __init__(self, X, y):\n",
    "        self.desc = X.loc[:, \"description\"]\n",
    "        self.y = y\n",
    "\n",
    "        #### Embedding encoder ####\n",
    "\n",
    "        # Preprocess the text\n",
    "        encoded_input = tokenizer(self.desc.tolist(), return_tensors=\"pt\", padding=True, truncation=True)\n",
    "\n",
    "        # Get input IDs and attention mask\n",
    "        self.input_ids = encoded_input[\"input_ids\"]\n",
    "        self.attention_mask = encoded_input[\"attention_mask\"]\n",
    "        \n",
    "    def __len__(self):\n",
    "        return len(self.y)\n",
    "    \n",
    "    def __getitem__(self, idx):\n",
    "        return self.input_ids[idx], self.attention_mask[idx], self.y[idx]"
   ]
  },
  {
   "cell_type": "code",
   "execution_count": 191,
   "metadata": {},
   "outputs": [],
   "source": [
    "def get_default_device():\n",
    "    \"\"\"Pick GPU if available, else CPU\"\"\"\n",
    "    return torch.device('mps')"
   ]
  },
  {
   "cell_type": "code",
   "execution_count": 192,
   "metadata": {},
   "outputs": [],
   "source": [
    "def to_device(data, device):\n",
    "    \"\"\"Move tensor(s) to chosen device\"\"\"\n",
    "    if isinstance(data, (list,tuple)):\n",
    "        return [to_device(x, device) for x in data]\n",
    "    return data.to(device, non_blocking=True)"
   ]
  },
  {
   "cell_type": "code",
   "execution_count": 193,
   "metadata": {},
   "outputs": [],
   "source": [
    "class DeviceDataLoader():\n",
    "    \"\"\"Wrap a dataloader to move data to a device\"\"\"\n",
    "    def __init__(self, dl, device):\n",
    "        self.dl = dl\n",
    "        self.device = device\n",
    "        \n",
    "    def __iter__(self):\n",
    "        \"\"\"Yield a batch of data after moving it to device\"\"\"\n",
    "        for b in self.dl: \n",
    "            yield to_device(b, self.device)\n",
    "\n",
    "    def __len__(self):\n",
    "        \"\"\"Number of batches\"\"\"\n",
    "        return len(self.dl)"
   ]
  },
  {
   "cell_type": "code",
   "execution_count": 194,
   "metadata": {},
   "outputs": [
    {
     "data": {
      "text/plain": [
       "device(type='mps')"
      ]
     },
     "execution_count": 194,
     "metadata": {},
     "output_type": "execute_result"
    }
   ],
   "source": [
    "device = get_default_device()\n",
    "device"
   ]
  },
  {
   "cell_type": "code",
   "execution_count": 195,
   "metadata": {},
   "outputs": [],
   "source": [
    "train_ds = TokenDataLoader(X_train, y_train)\n",
    "test_ds = TokenDataLoader(X_test, y_test)"
   ]
  },
  {
   "cell_type": "code",
   "execution_count": 196,
   "metadata": {},
   "outputs": [],
   "source": [
    "batch_size = 32\n",
    "train_dl = DataLoader(train_ds, batch_size=batch_size,shuffle=True)\n",
    "valid_dl = DataLoader(test_ds, batch_size=batch_size,shuffle=True)"
   ]
  },
  {
   "cell_type": "code",
   "execution_count": 197,
   "metadata": {},
   "outputs": [],
   "source": [
    "class SimpleGenreClassifier(nn.Module):\n",
    "    def __init__(self, embed_model, num_labels):\n",
    "        super().__init__()\n",
    "        self.model = embed_model\n",
    "        self.dropout = nn.Dropout(0.2) \n",
    "        self.classifier = nn.Linear(768, num_labels)\n",
    "        \n",
    "\n",
    "    def forward(self, X, mask):\n",
    "\n",
    "        outputs = self.model(input_ids=X, attention_mask=mask)\n",
    "        outputs = self.dropout(outputs[0])\n",
    "\n",
    "        logits = self.classifier(outputs[:,0,:].view(-1,768))\n",
    "                \n",
    "        return logits\n"
   ]
  },
  {
   "cell_type": "code",
   "execution_count": 198,
   "metadata": {},
   "outputs": [],
   "source": [
    "NUM_LABELS = df_enc[\"genre\"].nunique()"
   ]
  },
  {
   "cell_type": "code",
   "execution_count": 199,
   "metadata": {},
   "outputs": [],
   "source": [
    "model = SimpleGenreClassifier(embed_model=bert_model, num_labels=NUM_LABELS)"
   ]
  },
  {
   "cell_type": "code",
   "execution_count": 200,
   "metadata": {},
   "outputs": [
    {
     "data": {
      "text/plain": [
       "<All keys matched successfully>"
      ]
     },
     "execution_count": 200,
     "metadata": {},
     "output_type": "execute_result"
    }
   ],
   "source": [
    "model_path = \"./simple_genre_classifier.pt\"\n",
    "model.load_state_dict(torch.load(model_path))"
   ]
  },
  {
   "cell_type": "code",
   "execution_count": 201,
   "metadata": {},
   "outputs": [],
   "source": [
    "def train_model(model, optim, train_dl):\n",
    "    criterion = nn.CrossEntropyLoss()\n",
    "    model.train()\n",
    "    total = 0\n",
    "    sum_loss = 0\n",
    "    for X, mask, y in train_dl:\n",
    "        batch = y.shape[0]\n",
    "        logits = model(X, mask)\n",
    "        loss = criterion(logits.view(-1, NUM_LABELS), y.view(-1))\n",
    "        optim.zero_grad()\n",
    "        loss.backward()\n",
    "        optim.step()\n",
    "        total += batch\n",
    "        sum_loss += batch*(loss.item())\n",
    "    return sum_loss/total"
   ]
  },
  {
   "cell_type": "code",
   "execution_count": 202,
   "metadata": {},
   "outputs": [],
   "source": [
    "def val_loss(model, valid_dl):\n",
    "    criterion = nn.CrossEntropyLoss()\n",
    "    model.eval()\n",
    "    total = 0\n",
    "    sum_loss = 0\n",
    "    correct = 0\n",
    "    for X, mask, y in valid_dl:\n",
    "        current_batch_size = y.shape[0]\n",
    "        logits = model(X, mask)\n",
    "        loss = criterion(logits.view(-1, NUM_LABELS), y.view(-1))\n",
    "        sum_loss += current_batch_size*(loss.item())\n",
    "        total += current_batch_size\n",
    "        pred = torch.max(logits, 1)[1]\n",
    "        correct += (pred == y).float().sum().item()\n",
    "    print(\"valid loss %.3f and accuracy %.3f\" % (sum_loss/total, correct/total))\n",
    "    return sum_loss/total, correct/total"
   ]
  },
  {
   "cell_type": "code",
   "execution_count": 203,
   "metadata": {},
   "outputs": [],
   "source": [
    "optimizer = optim.Adam(model.parameters(), lr=0.000001)\n",
    "scheduler = StepLR(optimizer, step_size=25, gamma=0.99)\n",
    "\n",
    "def train_loop(model, epochs):\n",
    "    for i in range(epochs): \n",
    "        loss = train_model(model, optimizer, train_dl)\n",
    "        print(\"training loss: \", loss)\n",
    "        val_loss(model, valid_dl)\n",
    "        scheduler.step()\n",
    "        torch.save(model.state_dict(), \"simple_genre_classifier.pt\")"
   ]
  },
  {
   "cell_type": "code",
   "execution_count": 180,
   "metadata": {},
   "outputs": [
    {
     "name": "stdout",
     "output_type": "stream",
     "text": [
      "training loss:  2.8267989183379703\n",
      "valid loss 2.606 and accuracy 0.245\n",
      "training loss:  2.531837686947885\n",
      "valid loss 2.430 and accuracy 0.296\n",
      "training loss:  2.4068875849040734\n",
      "valid loss 2.332 and accuracy 0.304\n",
      "training loss:  2.2909683512981376\n",
      "valid loss 2.226 and accuracy 0.322\n",
      "training loss:  2.1777342743527104\n",
      "valid loss 2.121 and accuracy 0.360\n",
      "training loss:  2.0720416711688454\n",
      "valid loss 2.024 and accuracy 0.390\n",
      "training loss:  1.9740789142859436\n",
      "valid loss 1.942 and accuracy 0.413\n",
      "training loss:  1.8843965080782616\n",
      "valid loss 1.868 and accuracy 0.424\n",
      "training loss:  1.8087816787013546\n",
      "valid loss 1.809 and accuracy 0.434\n",
      "training loss:  1.741842565239507\n",
      "valid loss 1.754 and accuracy 0.453\n"
     ]
    }
   ],
   "source": [
    "train_loop(model, 10)"
   ]
  },
  {
   "cell_type": "code",
   "execution_count": 204,
   "metadata": {},
   "outputs": [
    {
     "name": "stdout",
     "output_type": "stream",
     "text": [
      "training loss:  1.6914872025948495\n",
      "valid loss 1.720 and accuracy 0.458\n",
      "training loss:  1.6493290386397945\n",
      "valid loss 1.691 and accuracy 0.468\n"
     ]
    }
   ],
   "source": [
    "train_loop(model, 5)"
   ]
  },
  {
   "cell_type": "markdown",
   "metadata": {},
   "source": [
    "### Evaluate Model on test set"
   ]
  },
  {
   "cell_type": "code",
   "execution_count": 152,
   "metadata": {},
   "outputs": [],
   "source": [
    "y_pred = []\n",
    "y_true = []\n",
    "\n",
    "batch_size = 32\n",
    "valid_dl = DataLoader(test_ds, batch_size=batch_size,shuffle=True)\n",
    "\n",
    "for X, mask, y in valid_dl:\n",
    "\n",
    "    model.eval()\n",
    "    logits = model(X, mask)\n",
    "    pred = torch.max(logits, 1)[1]\n",
    "    pred = list(pred.squeeze().detach().numpy())\n",
    "    true = list(y.squeeze().detach().numpy())\n",
    "\n",
    "    y_pred.extend(pred)\n",
    "    y_true.extend(true)\n",
    "\n"
   ]
  },
  {
   "cell_type": "code",
   "execution_count": 153,
   "metadata": {},
   "outputs": [],
   "source": [
    "def get_class_accuracy(y_pred, y_true, le):\n",
    "    \"\"\"\n",
    "    Obtains the class level accuracy with counts of correct and incorrectly classified\n",
    "\n",
    "    Args:\n",
    "        y_pred: Numpy array of predicted classes\n",
    "        y_true: Numpy array of true classes\n",
    "        le: Trained label encoder to convert labels back to descriptions of genre\n",
    "\n",
    "    Returns:\n",
    "        Pandas DataFrame with predictions\n",
    "\n",
    "    \"\"\"\n",
    "\n",
    "    preds = pd.DataFrame([y_pred, y_true]).T\n",
    "    preds.columns = [\"y_pred\", \"y_true\"]\n",
    "    preds[\"correct\"] = np.where(preds[\"y_pred\"]==preds[\"y_true\"], 1, 0)\n",
    "    preds[\"genre\"] = le.inverse_transform(list(preds[\"y_true\"]))\n",
    "\n",
    "    genre_predictions = pd.DataFrame(preds.groupby(\"genre\")['correct'].agg(['mean', 'sum', 'count']))\n",
    "    genre_predictions[\"incorrect\"] = genre_predictions[\"count\"] - genre_predictions[\"sum\"]\n",
    "    genre_predictions = genre_predictions.sort_values(by=\"incorrect\", ascending=False)\n",
    "    genre_predictions.columns=[\"accuracy\", \"correct\", \"number_movies\", \"incorrect\"]\n",
    "\n",
    "    return genre_predictions"
   ]
  },
  {
   "cell_type": "code",
   "execution_count": 154,
   "metadata": {},
   "outputs": [
    {
     "data": {
      "text/html": [
       "<div>\n",
       "<style scoped>\n",
       "    .dataframe tbody tr th:only-of-type {\n",
       "        vertical-align: middle;\n",
       "    }\n",
       "\n",
       "    .dataframe tbody tr th {\n",
       "        vertical-align: top;\n",
       "    }\n",
       "\n",
       "    .dataframe thead th {\n",
       "        text-align: right;\n",
       "    }\n",
       "</style>\n",
       "<table border=\"1\" class=\"dataframe\">\n",
       "  <thead>\n",
       "    <tr style=\"text-align: right;\">\n",
       "      <th></th>\n",
       "      <th>accuracy</th>\n",
       "      <th>correct</th>\n",
       "      <th>number_movies</th>\n",
       "      <th>incorrect</th>\n",
       "    </tr>\n",
       "    <tr>\n",
       "      <th>genre</th>\n",
       "      <th></th>\n",
       "      <th></th>\n",
       "      <th></th>\n",
       "      <th></th>\n",
       "    </tr>\n",
       "  </thead>\n",
       "  <tbody>\n",
       "    <tr>\n",
       "      <th>drama</th>\n",
       "      <td>0.477912</td>\n",
       "      <td>119</td>\n",
       "      <td>249</td>\n",
       "      <td>130</td>\n",
       "    </tr>\n",
       "    <tr>\n",
       "      <th>comedy</th>\n",
       "      <td>0.560185</td>\n",
       "      <td>121</td>\n",
       "      <td>216</td>\n",
       "      <td>95</td>\n",
       "    </tr>\n",
       "    <tr>\n",
       "      <th>action</th>\n",
       "      <td>0.271429</td>\n",
       "      <td>19</td>\n",
       "      <td>70</td>\n",
       "      <td>51</td>\n",
       "    </tr>\n",
       "    <tr>\n",
       "      <th>romance</th>\n",
       "      <td>0.537736</td>\n",
       "      <td>57</td>\n",
       "      <td>106</td>\n",
       "      <td>49</td>\n",
       "    </tr>\n",
       "    <tr>\n",
       "      <th>thriller</th>\n",
       "      <td>0.240741</td>\n",
       "      <td>13</td>\n",
       "      <td>54</td>\n",
       "      <td>41</td>\n",
       "    </tr>\n",
       "    <tr>\n",
       "      <th>family</th>\n",
       "      <td>0.305085</td>\n",
       "      <td>18</td>\n",
       "      <td>59</td>\n",
       "      <td>41</td>\n",
       "    </tr>\n",
       "    <tr>\n",
       "      <th>documentation</th>\n",
       "      <td>0.446429</td>\n",
       "      <td>25</td>\n",
       "      <td>56</td>\n",
       "      <td>31</td>\n",
       "    </tr>\n",
       "    <tr>\n",
       "      <th>crime</th>\n",
       "      <td>0.686047</td>\n",
       "      <td>59</td>\n",
       "      <td>86</td>\n",
       "      <td>27</td>\n",
       "    </tr>\n",
       "    <tr>\n",
       "      <th>scifi</th>\n",
       "      <td>0.297297</td>\n",
       "      <td>11</td>\n",
       "      <td>37</td>\n",
       "      <td>26</td>\n",
       "    </tr>\n",
       "    <tr>\n",
       "      <th>animation</th>\n",
       "      <td>0.424242</td>\n",
       "      <td>14</td>\n",
       "      <td>33</td>\n",
       "      <td>19</td>\n",
       "    </tr>\n",
       "    <tr>\n",
       "      <th>horror</th>\n",
       "      <td>0.636364</td>\n",
       "      <td>28</td>\n",
       "      <td>44</td>\n",
       "      <td>16</td>\n",
       "    </tr>\n",
       "    <tr>\n",
       "      <th>reality</th>\n",
       "      <td>0.466667</td>\n",
       "      <td>14</td>\n",
       "      <td>30</td>\n",
       "      <td>16</td>\n",
       "    </tr>\n",
       "    <tr>\n",
       "      <th>fantasy</th>\n",
       "      <td>0.117647</td>\n",
       "      <td>2</td>\n",
       "      <td>17</td>\n",
       "      <td>15</td>\n",
       "    </tr>\n",
       "    <tr>\n",
       "      <th>music</th>\n",
       "      <td>0.545455</td>\n",
       "      <td>18</td>\n",
       "      <td>33</td>\n",
       "      <td>15</td>\n",
       "    </tr>\n",
       "    <tr>\n",
       "      <th>european</th>\n",
       "      <td>0.083333</td>\n",
       "      <td>1</td>\n",
       "      <td>12</td>\n",
       "      <td>11</td>\n",
       "    </tr>\n",
       "    <tr>\n",
       "      <th>history</th>\n",
       "      <td>0.333333</td>\n",
       "      <td>5</td>\n",
       "      <td>15</td>\n",
       "      <td>10</td>\n",
       "    </tr>\n",
       "    <tr>\n",
       "      <th>sport</th>\n",
       "      <td>0.500000</td>\n",
       "      <td>10</td>\n",
       "      <td>20</td>\n",
       "      <td>10</td>\n",
       "    </tr>\n",
       "    <tr>\n",
       "      <th>war</th>\n",
       "      <td>0.526316</td>\n",
       "      <td>10</td>\n",
       "      <td>19</td>\n",
       "      <td>9</td>\n",
       "    </tr>\n",
       "    <tr>\n",
       "      <th>western</th>\n",
       "      <td>0.000000</td>\n",
       "      <td>0</td>\n",
       "      <td>1</td>\n",
       "      <td>1</td>\n",
       "    </tr>\n",
       "  </tbody>\n",
       "</table>\n",
       "</div>"
      ],
      "text/plain": [
       "               accuracy  correct  number_movies  incorrect\n",
       "genre                                                     \n",
       "drama          0.477912      119            249        130\n",
       "comedy         0.560185      121            216         95\n",
       "action         0.271429       19             70         51\n",
       "romance        0.537736       57            106         49\n",
       "thriller       0.240741       13             54         41\n",
       "family         0.305085       18             59         41\n",
       "documentation  0.446429       25             56         31\n",
       "crime          0.686047       59             86         27\n",
       "scifi          0.297297       11             37         26\n",
       "animation      0.424242       14             33         19\n",
       "horror         0.636364       28             44         16\n",
       "reality        0.466667       14             30         16\n",
       "fantasy        0.117647        2             17         15\n",
       "music          0.545455       18             33         15\n",
       "european       0.083333        1             12         11\n",
       "history        0.333333        5             15         10\n",
       "sport          0.500000       10             20         10\n",
       "war            0.526316       10             19          9\n",
       "western        0.000000        0              1          1"
      ]
     },
     "execution_count": 154,
     "metadata": {},
     "output_type": "execute_result"
    }
   ],
   "source": [
    "get_class_accuracy(y_pred, y_true, le)"
   ]
  },
  {
   "cell_type": "code",
   "execution_count": null,
   "metadata": {},
   "outputs": [],
   "source": []
  }
 ],
 "metadata": {
  "kernelspec": {
   "display_name": ".venv",
   "language": "python",
   "name": "python3"
  },
  "language_info": {
   "codemirror_mode": {
    "name": "ipython",
    "version": 3
   },
   "file_extension": ".py",
   "mimetype": "text/x-python",
   "name": "python",
   "nbconvert_exporter": "python",
   "pygments_lexer": "ipython3",
   "version": "3.11.4"
  }
 },
 "nbformat": 4,
 "nbformat_minor": 2
}
